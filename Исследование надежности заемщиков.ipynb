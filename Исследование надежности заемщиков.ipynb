{
 "cells": [
  {
   "cell_type": "markdown",
   "id": "f7a33c4e",
   "metadata": {},
   "source": [
    "# Исследование надежности заемщиков\n"
   ]
  },
  {
   "cell_type": "markdown",
   "id": "c0ab549c",
   "metadata": {},
   "source": [
    "К нам обратился банк, который хочет оптимизировать свою систему кредитного скоринга при помощи анилиза различных социальных и экономических факторов, потенциально влияющих на надежность заемщика. \n",
    "\n",
    "**Цель исследования**:\n",
    "\n",
    "1. Проанализировать, влияют ли социальные и экономические факторы на надежность заемщиков нашего заказчика; \n",
    "2. Дать рекомендации по улучшению системы кредитного скоринга.\n",
    "\n",
    "**Ход исследования**\n",
    "\n",
    "Данные о поведении пользователей получены из файла data.csv. О качестве данных ничего не известно. Поэтому перед проверкой гипотез понадобится обзор данных.\n",
    "\n",
    "Таким образом, исследование пройдёт в три этапа:\n",
    "\n",
    "1) Обзор данных.\n",
    "\n",
    "2) Предобработка данных.\n",
    "\n",
    "3) Выполнение поставленных целей."
   ]
  },
  {
   "cell_type": "markdown",
   "id": "d7d74bad",
   "metadata": {},
   "source": [
    "## Обзор данных"
   ]
  },
  {
   "cell_type": "code",
   "execution_count": 3,
   "id": "3478a1f6",
   "metadata": {},
   "outputs": [],
   "source": [
    "import pandas as pd\n",
    "import numpy as np\n",
    "import seaborn as sb"
   ]
  },
  {
   "cell_type": "code",
   "execution_count": 4,
   "id": "8cd8110e",
   "metadata": {},
   "outputs": [],
   "source": [
    "data = pd.read_csv('https://code.s3.yandex.net/datasets/data.csv')"
   ]
  },
  {
   "cell_type": "code",
   "execution_count": 5,
   "id": "2a56e2bf",
   "metadata": {},
   "outputs": [
    {
     "data": {
      "text/html": [
       "<div>\n",
       "<style scoped>\n",
       "    .dataframe tbody tr th:only-of-type {\n",
       "        vertical-align: middle;\n",
       "    }\n",
       "\n",
       "    .dataframe tbody tr th {\n",
       "        vertical-align: top;\n",
       "    }\n",
       "\n",
       "    .dataframe thead th {\n",
       "        text-align: right;\n",
       "    }\n",
       "</style>\n",
       "<table border=\"1\" class=\"dataframe\">\n",
       "  <thead>\n",
       "    <tr style=\"text-align: right;\">\n",
       "      <th></th>\n",
       "      <th>children</th>\n",
       "      <th>days_employed</th>\n",
       "      <th>dob_years</th>\n",
       "      <th>education</th>\n",
       "      <th>education_id</th>\n",
       "      <th>family_status</th>\n",
       "      <th>family_status_id</th>\n",
       "      <th>gender</th>\n",
       "      <th>income_type</th>\n",
       "      <th>debt</th>\n",
       "      <th>total_income</th>\n",
       "      <th>purpose</th>\n",
       "    </tr>\n",
       "  </thead>\n",
       "  <tbody>\n",
       "    <tr>\n",
       "      <th>0</th>\n",
       "      <td>1</td>\n",
       "      <td>-8437.673028</td>\n",
       "      <td>42</td>\n",
       "      <td>высшее</td>\n",
       "      <td>0</td>\n",
       "      <td>женат / замужем</td>\n",
       "      <td>0</td>\n",
       "      <td>F</td>\n",
       "      <td>сотрудник</td>\n",
       "      <td>0</td>\n",
       "      <td>253875.639453</td>\n",
       "      <td>покупка жилья</td>\n",
       "    </tr>\n",
       "    <tr>\n",
       "      <th>1</th>\n",
       "      <td>1</td>\n",
       "      <td>-4024.803754</td>\n",
       "      <td>36</td>\n",
       "      <td>среднее</td>\n",
       "      <td>1</td>\n",
       "      <td>женат / замужем</td>\n",
       "      <td>0</td>\n",
       "      <td>F</td>\n",
       "      <td>сотрудник</td>\n",
       "      <td>0</td>\n",
       "      <td>112080.014102</td>\n",
       "      <td>приобретение автомобиля</td>\n",
       "    </tr>\n",
       "    <tr>\n",
       "      <th>2</th>\n",
       "      <td>0</td>\n",
       "      <td>-5623.422610</td>\n",
       "      <td>33</td>\n",
       "      <td>Среднее</td>\n",
       "      <td>1</td>\n",
       "      <td>женат / замужем</td>\n",
       "      <td>0</td>\n",
       "      <td>M</td>\n",
       "      <td>сотрудник</td>\n",
       "      <td>0</td>\n",
       "      <td>145885.952297</td>\n",
       "      <td>покупка жилья</td>\n",
       "    </tr>\n",
       "    <tr>\n",
       "      <th>3</th>\n",
       "      <td>3</td>\n",
       "      <td>-4124.747207</td>\n",
       "      <td>32</td>\n",
       "      <td>среднее</td>\n",
       "      <td>1</td>\n",
       "      <td>женат / замужем</td>\n",
       "      <td>0</td>\n",
       "      <td>M</td>\n",
       "      <td>сотрудник</td>\n",
       "      <td>0</td>\n",
       "      <td>267628.550329</td>\n",
       "      <td>дополнительное образование</td>\n",
       "    </tr>\n",
       "    <tr>\n",
       "      <th>4</th>\n",
       "      <td>0</td>\n",
       "      <td>340266.072047</td>\n",
       "      <td>53</td>\n",
       "      <td>среднее</td>\n",
       "      <td>1</td>\n",
       "      <td>гражданский брак</td>\n",
       "      <td>1</td>\n",
       "      <td>F</td>\n",
       "      <td>пенсионер</td>\n",
       "      <td>0</td>\n",
       "      <td>158616.077870</td>\n",
       "      <td>сыграть свадьбу</td>\n",
       "    </tr>\n",
       "    <tr>\n",
       "      <th>5</th>\n",
       "      <td>0</td>\n",
       "      <td>-926.185831</td>\n",
       "      <td>27</td>\n",
       "      <td>высшее</td>\n",
       "      <td>0</td>\n",
       "      <td>гражданский брак</td>\n",
       "      <td>1</td>\n",
       "      <td>M</td>\n",
       "      <td>компаньон</td>\n",
       "      <td>0</td>\n",
       "      <td>255763.565419</td>\n",
       "      <td>покупка жилья</td>\n",
       "    </tr>\n",
       "    <tr>\n",
       "      <th>6</th>\n",
       "      <td>0</td>\n",
       "      <td>-2879.202052</td>\n",
       "      <td>43</td>\n",
       "      <td>высшее</td>\n",
       "      <td>0</td>\n",
       "      <td>женат / замужем</td>\n",
       "      <td>0</td>\n",
       "      <td>F</td>\n",
       "      <td>компаньон</td>\n",
       "      <td>0</td>\n",
       "      <td>240525.971920</td>\n",
       "      <td>операции с жильем</td>\n",
       "    </tr>\n",
       "    <tr>\n",
       "      <th>7</th>\n",
       "      <td>0</td>\n",
       "      <td>-152.779569</td>\n",
       "      <td>50</td>\n",
       "      <td>СРЕДНЕЕ</td>\n",
       "      <td>1</td>\n",
       "      <td>женат / замужем</td>\n",
       "      <td>0</td>\n",
       "      <td>M</td>\n",
       "      <td>сотрудник</td>\n",
       "      <td>0</td>\n",
       "      <td>135823.934197</td>\n",
       "      <td>образование</td>\n",
       "    </tr>\n",
       "    <tr>\n",
       "      <th>8</th>\n",
       "      <td>2</td>\n",
       "      <td>-6929.865299</td>\n",
       "      <td>35</td>\n",
       "      <td>ВЫСШЕЕ</td>\n",
       "      <td>0</td>\n",
       "      <td>гражданский брак</td>\n",
       "      <td>1</td>\n",
       "      <td>F</td>\n",
       "      <td>сотрудник</td>\n",
       "      <td>0</td>\n",
       "      <td>95856.832424</td>\n",
       "      <td>на проведение свадьбы</td>\n",
       "    </tr>\n",
       "    <tr>\n",
       "      <th>9</th>\n",
       "      <td>0</td>\n",
       "      <td>-2188.756445</td>\n",
       "      <td>41</td>\n",
       "      <td>среднее</td>\n",
       "      <td>1</td>\n",
       "      <td>женат / замужем</td>\n",
       "      <td>0</td>\n",
       "      <td>M</td>\n",
       "      <td>сотрудник</td>\n",
       "      <td>0</td>\n",
       "      <td>144425.938277</td>\n",
       "      <td>покупка жилья для семьи</td>\n",
       "    </tr>\n",
       "    <tr>\n",
       "      <th>10</th>\n",
       "      <td>2</td>\n",
       "      <td>-4171.483647</td>\n",
       "      <td>36</td>\n",
       "      <td>высшее</td>\n",
       "      <td>0</td>\n",
       "      <td>женат / замужем</td>\n",
       "      <td>0</td>\n",
       "      <td>M</td>\n",
       "      <td>компаньон</td>\n",
       "      <td>0</td>\n",
       "      <td>113943.491460</td>\n",
       "      <td>покупка недвижимости</td>\n",
       "    </tr>\n",
       "    <tr>\n",
       "      <th>11</th>\n",
       "      <td>0</td>\n",
       "      <td>-792.701887</td>\n",
       "      <td>40</td>\n",
       "      <td>среднее</td>\n",
       "      <td>1</td>\n",
       "      <td>женат / замужем</td>\n",
       "      <td>0</td>\n",
       "      <td>F</td>\n",
       "      <td>сотрудник</td>\n",
       "      <td>0</td>\n",
       "      <td>77069.234271</td>\n",
       "      <td>покупка коммерческой недвижимости</td>\n",
       "    </tr>\n",
       "    <tr>\n",
       "      <th>12</th>\n",
       "      <td>0</td>\n",
       "      <td>NaN</td>\n",
       "      <td>65</td>\n",
       "      <td>среднее</td>\n",
       "      <td>1</td>\n",
       "      <td>гражданский брак</td>\n",
       "      <td>1</td>\n",
       "      <td>M</td>\n",
       "      <td>пенсионер</td>\n",
       "      <td>0</td>\n",
       "      <td>NaN</td>\n",
       "      <td>сыграть свадьбу</td>\n",
       "    </tr>\n",
       "    <tr>\n",
       "      <th>13</th>\n",
       "      <td>0</td>\n",
       "      <td>-1846.641941</td>\n",
       "      <td>54</td>\n",
       "      <td>неоконченное высшее</td>\n",
       "      <td>2</td>\n",
       "      <td>женат / замужем</td>\n",
       "      <td>0</td>\n",
       "      <td>F</td>\n",
       "      <td>сотрудник</td>\n",
       "      <td>0</td>\n",
       "      <td>130458.228857</td>\n",
       "      <td>приобретение автомобиля</td>\n",
       "    </tr>\n",
       "    <tr>\n",
       "      <th>14</th>\n",
       "      <td>0</td>\n",
       "      <td>-1844.956182</td>\n",
       "      <td>56</td>\n",
       "      <td>высшее</td>\n",
       "      <td>0</td>\n",
       "      <td>гражданский брак</td>\n",
       "      <td>1</td>\n",
       "      <td>F</td>\n",
       "      <td>компаньон</td>\n",
       "      <td>1</td>\n",
       "      <td>165127.911772</td>\n",
       "      <td>покупка жилой недвижимости</td>\n",
       "    </tr>\n",
       "    <tr>\n",
       "      <th>15</th>\n",
       "      <td>1</td>\n",
       "      <td>-972.364419</td>\n",
       "      <td>26</td>\n",
       "      <td>среднее</td>\n",
       "      <td>1</td>\n",
       "      <td>женат / замужем</td>\n",
       "      <td>0</td>\n",
       "      <td>F</td>\n",
       "      <td>сотрудник</td>\n",
       "      <td>0</td>\n",
       "      <td>116820.904450</td>\n",
       "      <td>строительство собственной недвижимости</td>\n",
       "    </tr>\n",
       "    <tr>\n",
       "      <th>16</th>\n",
       "      <td>0</td>\n",
       "      <td>-1719.934226</td>\n",
       "      <td>35</td>\n",
       "      <td>среднее</td>\n",
       "      <td>1</td>\n",
       "      <td>женат / замужем</td>\n",
       "      <td>0</td>\n",
       "      <td>F</td>\n",
       "      <td>сотрудник</td>\n",
       "      <td>0</td>\n",
       "      <td>289202.704229</td>\n",
       "      <td>недвижимость</td>\n",
       "    </tr>\n",
       "    <tr>\n",
       "      <th>17</th>\n",
       "      <td>0</td>\n",
       "      <td>-2369.999720</td>\n",
       "      <td>33</td>\n",
       "      <td>высшее</td>\n",
       "      <td>0</td>\n",
       "      <td>гражданский брак</td>\n",
       "      <td>1</td>\n",
       "      <td>M</td>\n",
       "      <td>сотрудник</td>\n",
       "      <td>0</td>\n",
       "      <td>90410.586745</td>\n",
       "      <td>строительство недвижимости</td>\n",
       "    </tr>\n",
       "    <tr>\n",
       "      <th>18</th>\n",
       "      <td>0</td>\n",
       "      <td>400281.136913</td>\n",
       "      <td>53</td>\n",
       "      <td>среднее</td>\n",
       "      <td>1</td>\n",
       "      <td>вдовец / вдова</td>\n",
       "      <td>2</td>\n",
       "      <td>F</td>\n",
       "      <td>пенсионер</td>\n",
       "      <td>0</td>\n",
       "      <td>56823.777243</td>\n",
       "      <td>на покупку подержанного автомобиля</td>\n",
       "    </tr>\n",
       "    <tr>\n",
       "      <th>19</th>\n",
       "      <td>0</td>\n",
       "      <td>-10038.818549</td>\n",
       "      <td>48</td>\n",
       "      <td>СРЕДНЕЕ</td>\n",
       "      <td>1</td>\n",
       "      <td>в разводе</td>\n",
       "      <td>3</td>\n",
       "      <td>F</td>\n",
       "      <td>сотрудник</td>\n",
       "      <td>0</td>\n",
       "      <td>242831.107982</td>\n",
       "      <td>на покупку своего автомобиля</td>\n",
       "    </tr>\n",
       "  </tbody>\n",
       "</table>\n",
       "</div>"
      ],
      "text/plain": [
       "    children  days_employed  dob_years            education  education_id  \\\n",
       "0          1   -8437.673028         42               высшее             0   \n",
       "1          1   -4024.803754         36              среднее             1   \n",
       "2          0   -5623.422610         33              Среднее             1   \n",
       "3          3   -4124.747207         32              среднее             1   \n",
       "4          0  340266.072047         53              среднее             1   \n",
       "5          0    -926.185831         27               высшее             0   \n",
       "6          0   -2879.202052         43               высшее             0   \n",
       "7          0    -152.779569         50              СРЕДНЕЕ             1   \n",
       "8          2   -6929.865299         35               ВЫСШЕЕ             0   \n",
       "9          0   -2188.756445         41              среднее             1   \n",
       "10         2   -4171.483647         36               высшее             0   \n",
       "11         0    -792.701887         40              среднее             1   \n",
       "12         0            NaN         65              среднее             1   \n",
       "13         0   -1846.641941         54  неоконченное высшее             2   \n",
       "14         0   -1844.956182         56               высшее             0   \n",
       "15         1    -972.364419         26              среднее             1   \n",
       "16         0   -1719.934226         35              среднее             1   \n",
       "17         0   -2369.999720         33               высшее             0   \n",
       "18         0  400281.136913         53              среднее             1   \n",
       "19         0  -10038.818549         48              СРЕДНЕЕ             1   \n",
       "\n",
       "       family_status  family_status_id gender income_type  debt  \\\n",
       "0    женат / замужем                 0      F   сотрудник     0   \n",
       "1    женат / замужем                 0      F   сотрудник     0   \n",
       "2    женат / замужем                 0      M   сотрудник     0   \n",
       "3    женат / замужем                 0      M   сотрудник     0   \n",
       "4   гражданский брак                 1      F   пенсионер     0   \n",
       "5   гражданский брак                 1      M   компаньон     0   \n",
       "6    женат / замужем                 0      F   компаньон     0   \n",
       "7    женат / замужем                 0      M   сотрудник     0   \n",
       "8   гражданский брак                 1      F   сотрудник     0   \n",
       "9    женат / замужем                 0      M   сотрудник     0   \n",
       "10   женат / замужем                 0      M   компаньон     0   \n",
       "11   женат / замужем                 0      F   сотрудник     0   \n",
       "12  гражданский брак                 1      M   пенсионер     0   \n",
       "13   женат / замужем                 0      F   сотрудник     0   \n",
       "14  гражданский брак                 1      F   компаньон     1   \n",
       "15   женат / замужем                 0      F   сотрудник     0   \n",
       "16   женат / замужем                 0      F   сотрудник     0   \n",
       "17  гражданский брак                 1      M   сотрудник     0   \n",
       "18    вдовец / вдова                 2      F   пенсионер     0   \n",
       "19         в разводе                 3      F   сотрудник     0   \n",
       "\n",
       "     total_income                                 purpose  \n",
       "0   253875.639453                           покупка жилья  \n",
       "1   112080.014102                 приобретение автомобиля  \n",
       "2   145885.952297                           покупка жилья  \n",
       "3   267628.550329              дополнительное образование  \n",
       "4   158616.077870                         сыграть свадьбу  \n",
       "5   255763.565419                           покупка жилья  \n",
       "6   240525.971920                       операции с жильем  \n",
       "7   135823.934197                             образование  \n",
       "8    95856.832424                   на проведение свадьбы  \n",
       "9   144425.938277                 покупка жилья для семьи  \n",
       "10  113943.491460                    покупка недвижимости  \n",
       "11   77069.234271       покупка коммерческой недвижимости  \n",
       "12            NaN                         сыграть свадьбу  \n",
       "13  130458.228857                 приобретение автомобиля  \n",
       "14  165127.911772              покупка жилой недвижимости  \n",
       "15  116820.904450  строительство собственной недвижимости  \n",
       "16  289202.704229                            недвижимость  \n",
       "17   90410.586745              строительство недвижимости  \n",
       "18   56823.777243      на покупку подержанного автомобиля  \n",
       "19  242831.107982            на покупку своего автомобиля  "
      ]
     },
     "execution_count": 5,
     "metadata": {},
     "output_type": "execute_result"
    }
   ],
   "source": [
    "data.head(20)"
   ]
  },
  {
   "cell_type": "code",
   "execution_count": 6,
   "id": "4fe11d0b",
   "metadata": {},
   "outputs": [
    {
     "name": "stdout",
     "output_type": "stream",
     "text": [
      "<class 'pandas.core.frame.DataFrame'>\n",
      "RangeIndex: 21525 entries, 0 to 21524\n",
      "Data columns (total 12 columns):\n",
      " #   Column            Non-Null Count  Dtype  \n",
      "---  ------            --------------  -----  \n",
      " 0   children          21525 non-null  int64  \n",
      " 1   days_employed     19351 non-null  float64\n",
      " 2   dob_years         21525 non-null  int64  \n",
      " 3   education         21525 non-null  object \n",
      " 4   education_id      21525 non-null  int64  \n",
      " 5   family_status     21525 non-null  object \n",
      " 6   family_status_id  21525 non-null  int64  \n",
      " 7   gender            21525 non-null  object \n",
      " 8   income_type       21525 non-null  object \n",
      " 9   debt              21525 non-null  int64  \n",
      " 10  total_income      19351 non-null  float64\n",
      " 11  purpose           21525 non-null  object \n",
      "dtypes: float64(2), int64(5), object(5)\n",
      "memory usage: 2.0+ MB\n"
     ]
    }
   ],
   "source": [
    "data.info()"
   ]
  },
  {
   "cell_type": "markdown",
   "id": "d9a58874",
   "metadata": {},
   "source": [
    "Для анализа использовались данные по платежесобности заемщиков нашего клиента (заказчика) с 21525 наблюдениями, в которых была представлена информация о людях, воспользовавшихся услугами в данной финансовой организации с различными социальными и экономическими факторами, такими как:\n",
    "\n",
    "- children — количество детей в семье\n",
    "- days_employed — общий трудовой стаж в днях\n",
    "- dob_years — возраст клиента в годах\n",
    "- education — уровень образования клиента\n",
    "- education_id — идентификатор уровня образования\n",
    "- family_status — семейное положение\n",
    "- family_status_id — идентификатор семейного положения\n",
    "- gender — пол клиента\n",
    "- income_type — тип занятости\n",
    "- debt — имел ли задолженность по возврату кредитов\n",
    "- total_income — ежемесячный доход\n",
    "- purpose — цель получения кредита"
   ]
  },
  {
   "cell_type": "markdown",
   "id": "1f301d94",
   "metadata": {},
   "source": [
    "## Предобработка данных"
   ]
  },
  {
   "cell_type": "code",
   "execution_count": 7,
   "id": "f8225199",
   "metadata": {},
   "outputs": [
    {
     "data": {
      "text/plain": [
       "children               0\n",
       "days_employed       2174\n",
       "dob_years              0\n",
       "education              0\n",
       "education_id           0\n",
       "family_status          0\n",
       "family_status_id       0\n",
       "gender                 0\n",
       "income_type            0\n",
       "debt                   0\n",
       "total_income        2174\n",
       "purpose                0\n",
       "dtype: int64"
      ]
     },
     "execution_count": 7,
     "metadata": {},
     "output_type": "execute_result"
    }
   ],
   "source": [
    "data.isna().sum()"
   ]
  },
  {
   "cell_type": "markdown",
   "id": "44de5af0",
   "metadata": {},
   "source": [
    "В двух столбцах есть пропущенные значения. На сумму дохода сильнее всего влияет тип занятости, поэтому заполнить пропуски в этом столбце нужно медианным значением по каждому типу из столбца income_type. "
   ]
  },
  {
   "cell_type": "code",
   "execution_count": 8,
   "id": "4407a740",
   "metadata": {},
   "outputs": [],
   "source": [
    "for t in data['income_type'].unique():\n",
    "    data.loc[(data['income_type'] == t) & (data['total_income'].isna()), 'total_income'] = \\\n",
    "    data.loc[(data['income_type'] == t), 'total_income'].median()"
   ]
  },
  {
   "cell_type": "markdown",
   "id": "b433d0e7",
   "metadata": {},
   "source": [
    "### Обработка аномальных значений\n"
   ]
  },
  {
   "cell_type": "code",
   "execution_count": 9,
   "id": "e040e514",
   "metadata": {},
   "outputs": [],
   "source": [
    "# Заменим все отрицательные значения положительными в столбце \"days_employed\".\n",
    "\n",
    "data['days_employed'] = data['days_employed'].abs()"
   ]
  },
  {
   "cell_type": "code",
   "execution_count": 10,
   "id": "88a857b8",
   "metadata": {},
   "outputs": [
    {
     "data": {
      "text/plain": [
       "income_type\n",
       "безработный        366413.652744\n",
       "в декрете            3296.759962\n",
       "госслужащий          2689.368353\n",
       "компаньон            1547.382223\n",
       "пенсионер          365213.306266\n",
       "предприниматель       520.848083\n",
       "сотрудник            1574.202821\n",
       "студент               578.751554\n",
       "Name: days_employed, dtype: float64"
      ]
     },
     "execution_count": 10,
     "metadata": {},
     "output_type": "execute_result"
    }
   ],
   "source": [
    "#  Взглянем на медианные значения трудового стажа для каждой социальной группы\n",
    "data.groupby('income_type')['days_employed'].agg('median')"
   ]
  },
  {
   "cell_type": "code",
   "execution_count": 11,
   "id": "f24ba60c",
   "metadata": {},
   "outputs": [
    {
     "data": {
      "text/plain": [
       "array([ 1,  0,  3,  2, -1,  4, 20,  5], dtype=int64)"
      ]
     },
     "execution_count": 11,
     "metadata": {},
     "output_type": "execute_result"
    }
   ],
   "source": [
    "#  Взглянем на уникальные значения столбца \"children\"\n",
    "data['children'].unique()\n"
   ]
  },
  {
   "cell_type": "code",
   "execution_count": 12,
   "id": "dfa57aa2",
   "metadata": {},
   "outputs": [],
   "source": [
    "# В столбце children есть два аномальных значения. Необходимо их удалить.\n",
    "data = data[(data['children'] != -1) & (data['children'] != 20)]"
   ]
  },
  {
   "cell_type": "code",
   "execution_count": 13,
   "id": "a2f9afe4",
   "metadata": {},
   "outputs": [
    {
     "data": {
      "text/plain": [
       "array([1, 0, 3, 2, 4, 5], dtype=int64)"
      ]
     },
     "execution_count": 13,
     "metadata": {},
     "output_type": "execute_result"
    }
   ],
   "source": [
    "data['children'].unique()"
   ]
  },
  {
   "cell_type": "code",
   "execution_count": 15,
   "id": "159394ef",
   "metadata": {},
   "outputs": [],
   "source": [
    "# Заполним пропуски в столбце days_employed медианными значениями по каждого типа занятости income_type\n",
    "for t in data['income_type'].unique():\n",
    "    data.loc[(data['income_type'] == t) & (data['days_employed'].isna()), 'days_employed'] = \\\n",
    "    data.loc[(data['income_type'] == t), 'days_employed'].median()"
   ]
  },
  {
   "cell_type": "code",
   "execution_count": 16,
   "id": "918e10e3",
   "metadata": {},
   "outputs": [
    {
     "data": {
      "text/plain": [
       "children            0\n",
       "days_employed       0\n",
       "dob_years           0\n",
       "education           0\n",
       "education_id        0\n",
       "family_status       0\n",
       "family_status_id    0\n",
       "gender              0\n",
       "income_type         0\n",
       "debt                0\n",
       "total_income        0\n",
       "purpose             0\n",
       "dtype: int64"
      ]
     },
     "execution_count": 16,
     "metadata": {},
     "output_type": "execute_result"
    }
   ],
   "source": [
    "data.isna().sum()"
   ]
  },
  {
   "cell_type": "markdown",
   "id": "0eb9ce28",
   "metadata": {},
   "source": [
    "В столбце `total_income` данные представленны в формате вещественных чисел. Заменим их на целочисленные. "
   ]
  },
  {
   "cell_type": "code",
   "execution_count": 17,
   "id": "2ab8b1b2",
   "metadata": {},
   "outputs": [],
   "source": [
    "data['total_income'] = data['total_income'].astype(int)"
   ]
  },
  {
   "cell_type": "markdown",
   "id": "73879633",
   "metadata": {},
   "source": [
    "В столбце  `education` есть одни и те же значения, но записанные по-разному: с использованием заглавных и строчных букв. Приведем их к нижнему регистру."
   ]
  },
  {
   "cell_type": "code",
   "execution_count": 18,
   "id": "b8c463e5",
   "metadata": {},
   "outputs": [],
   "source": [
    "data['education'] = data['education'].str.lower()"
   ]
  },
  {
   "cell_type": "code",
   "execution_count": 19,
   "id": "4c49e38e",
   "metadata": {},
   "outputs": [
    {
     "data": {
      "text/plain": [
       "71"
      ]
     },
     "execution_count": 19,
     "metadata": {},
     "output_type": "execute_result"
    }
   ],
   "source": [
    "# Проверим количество дубликатов \n",
    "data.duplicated().sum()"
   ]
  },
  {
   "cell_type": "code",
   "execution_count": 20,
   "id": "b2eabdf3",
   "metadata": {},
   "outputs": [],
   "source": [
    "# Удалим дублирующиеся строки\n",
    "data = data.drop_duplicates()"
   ]
  },
  {
   "cell_type": "markdown",
   "id": "de49761a",
   "metadata": {},
   "source": [
    "Для более четкой интерпретации результатов добавим дополнительный столбец `total_income_category` с данными по уровню дохода с общепринятой европейской буквенной системой A-E:\n",
    "\n",
    "- 0–30000 — `'E'`;\n",
    "- 30001–50000 — `'D'`;\n",
    "- 50001–200000 — `'C'`;\n",
    "- 200001–1000000 — `'B'`;\n",
    "- 1000001 и выше — `'A'`."
   ]
  },
  {
   "cell_type": "code",
   "execution_count": 21,
   "id": "76e94e4a",
   "metadata": {},
   "outputs": [],
   "source": [
    "def categorize_income(income):\n",
    "    try:\n",
    "        if 0 <= income <= 30000:\n",
    "            return 'E'\n",
    "        elif 30001 <= income <= 50000:\n",
    "            return 'D'\n",
    "        elif 50001 <= income <= 200000:\n",
    "            return 'C'\n",
    "        elif 200001 <= income <= 1000000:\n",
    "            return 'B'\n",
    "        elif income >= 1000001:\n",
    "            return 'A'\n",
    "    except:\n",
    "        pass\n",
    "    \n",
    "data['total_income_category'] = data['total_income'].apply(categorize_income)"
   ]
  },
  {
   "cell_type": "markdown",
   "id": "a8e0a3dc",
   "metadata": {},
   "source": [
    "А также добавим столбец `purpose_category` для систематизированного определения цели заема средств.\n",
    "\n",
    "- `'операции с автомобилем'`,\n",
    "- `'операции с недвижимостью'`,\n",
    "- `'проведение свадьбы'`,\n",
    "- `'получение образования'`.\n"
   ]
  },
  {
   "cell_type": "code",
   "execution_count": 22,
   "id": "bdd47ea3",
   "metadata": {},
   "outputs": [],
   "source": [
    "def categorize_purpose(row):\n",
    "    try:\n",
    "        if 'автом' in row:\n",
    "            return 'операции с автомобилем'\n",
    "        elif 'жил' in row or 'недвиж' in row:\n",
    "            return 'операции с недвижимостью'\n",
    "        elif 'свад' in row:\n",
    "            return 'проведение свадьбы'\n",
    "        elif 'образов' in row:\n",
    "            return 'получение образования'\n",
    "    except:\n",
    "        return 'нет категории'\n",
    "    \n",
    "data['purpose_category'] = data['purpose'].apply(categorize_purpose)"
   ]
  },
  {
   "cell_type": "markdown",
   "id": "dba9c930",
   "metadata": {},
   "source": [
    "### Выявление зависимости между надежностью заемщика и некоторыми факторам\n"
   ]
  },
  {
   "cell_type": "markdown",
   "id": "e3013a7a",
   "metadata": {},
   "source": [
    "***Есть ли зависимость между количеством детей и возвратом кредита в срок?***"
   ]
  },
  {
   "cell_type": "code",
   "execution_count": 23,
   "id": "73c917a2",
   "metadata": {},
   "outputs": [
    {
     "name": "stdout",
     "output_type": "stream",
     "text": [
      "         Общее кол-во Закредитованные Доля должников\n",
      "                 debt            debt           debt\n",
      "children                                            \n",
      "0               14091            1063       0.075438\n",
      "1                4808             444       0.092346\n",
      "2                2052             194       0.094542\n",
      "3                 330              27       0.081818\n",
      "4                  41               4       0.097561\n",
      "5                   9               0       0.000000\n"
     ]
    }
   ],
   "source": [
    "data_ch = pd.pivot_table(data,index='children', values='debt',aggfunc=['count','sum','mean'])\n",
    "data_ch = data_ch.rename(columns={'count':'Общее кол-во', 'sum':'Закредитованные', 'mean':'Доля должников'})\n",
    "print(data_ch)\n",
    "\n"
   ]
  },
  {
   "cell_type": "code",
   "execution_count": 24,
   "id": "dc410f2a",
   "metadata": {},
   "outputs": [
    {
     "name": "stdout",
     "output_type": "stream",
     "text": [
      "AxesSubplot(0.125,0.125;0.62x0.755)\n"
     ]
    },
    {
     "data": {
      "image/png": "[encoded data removed]",
      "text/plain": [
       "<Figure size 432x288 with 2 Axes>"
      ]
     },
     "metadata": {
      "needs_background": "light"
     },
     "output_type": "display_data"
    }
   ],
   "source": [
    "print(sb.heatmap(data_ch[[ 'Закредитованные']], annot=True, cmap= 'coolwarm'))"
   ]
  },
  {
   "cell_type": "code",
   "execution_count": 25,
   "id": "ea094e40",
   "metadata": {},
   "outputs": [
    {
     "name": "stdout",
     "output_type": "stream",
     "text": [
      "AxesSubplot(0.125,0.125;0.62x0.755)\n"
     ]
    },
    {
     "data": {
      "image/png": "[encoded data removed]",
      "text/plain": [
       "<Figure size 432x288 with 2 Axes>"
      ]
     },
     "metadata": {
      "needs_background": "light"
     },
     "output_type": "display_data"
    }
   ],
   "source": [
    "print(sb.heatmap(data_ch[[ 'Доля должников']], annot=True, cmap= 'coolwarm'))"
   ]
  },
  {
   "cell_type": "markdown",
   "id": "a13b323a",
   "metadata": {},
   "source": [
    "**Вывод:** \n",
    "\n",
    "Итак, что мы видим в сводной таблице, представленной выше? Во-первых, сильно рознится количество человек, у которых отсутствуют дети, и тех, у которых детей 3 и более. Теперь ближе к сути проблемы.\n",
    "\n",
    "Сразу можно отметить, что многодетные родители (в своем небольшом количестве) показали 100% результат отсутствия задолженности. В то же время, \"испытуемые\" с 1,2 и 4 детьми имею наиболее высокий процент задолженности (приблизительно 9-10% от общего числа). Те люди, у которых дети отсутствуют имею показатель в 7,5%. Родители троих детей имею показатель закредитованности выше \"бездетных\", но \"ниже остальных (8,1%)\n",
    "\n",
    "Что это значит? С появлением детей в семьях людям становится сложнее обслуживать свои кредитные обязательства. Общая тенденция показывает, что чем больше детей, тем выше закредитованности. "
   ]
  },
  {
   "cell_type": "markdown",
   "id": "b012f8e6",
   "metadata": {},
   "source": [
    "***Есть ли зависимость между семейным положением и возвратом кредита в срок?***"
   ]
  },
  {
   "cell_type": "code",
   "execution_count": 26,
   "id": "bf3c8f39",
   "metadata": {},
   "outputs": [
    {
     "name": "stdout",
     "output_type": "stream",
     "text": [
      "                      Общее кол-во Закредитованные Доля должников\n",
      "                              debt            debt           debt\n",
      "family_status                                                    \n",
      "Не женат / не замужем         2796             273       0.097639\n",
      "в разводе                     1189              84       0.070648\n",
      "вдовец / вдова                 951              63       0.066246\n",
      "гражданский брак              4134             385       0.093130\n",
      "женат / замужем              12261             927       0.075606\n"
     ]
    }
   ],
   "source": [
    "data_fam = pd.pivot_table(data,index='family_status', values='debt',aggfunc=['count','sum','mean'])\n",
    "data_fam = data_fam.rename(columns={'count':'Общее кол-во', 'sum':'Закредитованные', 'mean':'Доля должников'})\n",
    "print(data_fam)"
   ]
  },
  {
   "cell_type": "code",
   "execution_count": 27,
   "id": "b7e34fba",
   "metadata": {},
   "outputs": [
    {
     "name": "stdout",
     "output_type": "stream",
     "text": [
      "AxesSubplot(0.125,0.125;0.62x0.755)\n"
     ]
    },
    {
     "data": {
      "image/png": "[encoded data removed]",
      "text/plain": [
       "<Figure size 432x288 with 2 Axes>"
      ]
     },
     "metadata": {
      "needs_background": "light"
     },
     "output_type": "display_data"
    }
   ],
   "source": [
    "print(sb.heatmap(data_fam[[ 'Закредитованные']], annot=True, cmap= 'coolwarm'))"
   ]
  },
  {
   "cell_type": "code",
   "execution_count": 28,
   "id": "42a48ffd",
   "metadata": {},
   "outputs": [
    {
     "name": "stdout",
     "output_type": "stream",
     "text": [
      "AxesSubplot(0.125,0.125;0.62x0.755)\n"
     ]
    },
    {
     "data": {
      "image/png": "[encoded data removed]",
      "text/plain": [
       "<Figure size 432x288 with 2 Axes>"
      ]
     },
     "metadata": {
      "needs_background": "light"
     },
     "output_type": "display_data"
    }
   ],
   "source": [
    "print(sb.heatmap(data_fam[[ 'Доля должников']], annot=True, cmap= 'coolwarm'))\n"
   ]
  },
  {
   "cell_type": "markdown",
   "id": "fcad54f2",
   "metadata": {},
   "source": [
    "**Вывод:** \n",
    "\n",
    "Какая тенденция наблюдается в показателях наличия задолженности и семейного положения? Что мы видим? В целом, в нашем выборке значительно больше женатых/замужних людей, тогда как меньше всего вдовцов/вдов и разведенных. \n",
    "\n",
    "А теперь взглянем на показатели закредитованности (долю должников) в каждой группе. Наиболее высокие показатели у холостых людей и тех, кто находится в гражданском браке (9,8% и 9,3% соответственно). Тогда как у разведенных и женатых(замужних) доля значительно ниже (7,1% и 7,6% соответственно). У вдовцов и вдов наименьшая доля (учитываем и наименьшее общее количество в выборке) - 6,6%.\n",
    "\n",
    "То есть, тенденция следующая: люди, которые уже были в официальном браке или находятся в нем прямо сейчас закрывают свои задолженности значительно чаще, чем холостые и находящиеся в неофициальном браке."
   ]
  },
  {
   "cell_type": "markdown",
   "id": "4baeaefc",
   "metadata": {},
   "source": [
    "***Есть ли зависимость между уровнем дохода и возвратом кредита в срок?***"
   ]
  },
  {
   "cell_type": "code",
   "execution_count": 29,
   "id": "1149b215",
   "metadata": {},
   "outputs": [
    {
     "name": "stdout",
     "output_type": "stream",
     "text": [
      "                Общее кол-во Закредитованные Доля должников\n",
      "                        debt            debt           debt\n",
      "income_type                                                \n",
      "безработный                2               1       0.500000\n",
      "в декрете                  1               1       1.000000\n",
      "госслужащий             1451              86       0.059269\n",
      "компаньон               5047             374       0.074103\n",
      "пенсионер               3812             216       0.056663\n",
      "предприниматель            2               0       0.000000\n",
      "сотрудник              11015            1054       0.095688\n",
      "студент                    1               0       0.000000\n"
     ]
    }
   ],
   "source": [
    "data_inc = pd.pivot_table(data,index='income_type', values='debt',aggfunc=['count','sum','mean'])\n",
    "data_inc = data_inc.rename(columns={'count':'Общее кол-во', 'sum':'Закредитованные', 'mean':'Доля должников'})\n",
    "print(data_inc)"
   ]
  },
  {
   "cell_type": "code",
   "execution_count": 30,
   "id": "df776a65",
   "metadata": {},
   "outputs": [
    {
     "data": {
      "text/plain": [
       "debt    21331\n",
       "dtype: int64"
      ]
     },
     "execution_count": 30,
     "metadata": {},
     "output_type": "execute_result"
    }
   ],
   "source": [
    "data_inc['Общее кол-во'].sum()"
   ]
  },
  {
   "cell_type": "code",
   "execution_count": 31,
   "id": "d3ae248d",
   "metadata": {},
   "outputs": [
    {
     "name": "stdout",
     "output_type": "stream",
     "text": [
      "AxesSubplot(0.125,0.125;0.62x0.755)\n"
     ]
    },
    {
     "data": {
      "image/png": "[encoded data removed]",
      "text/plain": [
       "<Figure size 432x288 with 2 Axes>"
      ]
     },
     "metadata": {
      "needs_background": "light"
     },
     "output_type": "display_data"
    }
   ],
   "source": [
    "print(sb.heatmap(data_inc[[ 'Закредитованные']], annot=True, cmap= 'coolwarm'))"
   ]
  },
  {
   "cell_type": "code",
   "execution_count": 32,
   "id": "e5093e69",
   "metadata": {},
   "outputs": [
    {
     "name": "stdout",
     "output_type": "stream",
     "text": [
      "AxesSubplot(0.125,0.125;0.62x0.755)\n"
     ]
    },
    {
     "data": {
      "image/png": "[encoded data removed]",
      "text/plain": [
       "<Figure size 432x288 with 2 Axes>"
      ]
     },
     "metadata": {
      "needs_background": "light"
     },
     "output_type": "display_data"
    }
   ],
   "source": [
    "print(sb.heatmap(data_inc[[ 'Доля должников']], annot=True, cmap= 'coolwarm'))"
   ]
  },
  {
   "cell_type": "code",
   "execution_count": 33,
   "id": "dbc54f71",
   "metadata": {},
   "outputs": [
    {
     "name": "stdout",
     "output_type": "stream",
     "text": [
      "                      Общее кол-во Закредитованные Доля должников\n",
      "                              debt            debt           debt\n",
      "total_income_category                                            \n",
      "A                               25               2       0.080000\n",
      "B                             5014             354       0.070602\n",
      "C                            15921            1353       0.084982\n",
      "D                              349              21       0.060172\n",
      "E                               22               2       0.090909\n"
     ]
    }
   ],
   "source": [
    "data_inc_category = pd.pivot_table(data,index='total_income_category', values='debt',aggfunc=['count','sum','mean'])\n",
    "data_inc_category = data_inc_category.rename(columns={'count':'Общее кол-во', 'sum':'Закредитованные', 'mean':'Доля должников'})\n",
    "print(data_inc_category)"
   ]
  },
  {
   "cell_type": "code",
   "execution_count": 34,
   "id": "a8f3ab38",
   "metadata": {},
   "outputs": [
    {
     "name": "stdout",
     "output_type": "stream",
     "text": [
      "AxesSubplot(0.125,0.125;0.62x0.755)\n"
     ]
    },
    {
     "data": {
      "image/png": "[encoded data removed]",
      "text/plain": [
       "<Figure size 432x288 with 2 Axes>"
      ]
     },
     "metadata": {
      "needs_background": "light"
     },
     "output_type": "display_data"
    }
   ],
   "source": [
    "print(sb.heatmap(data_inc_category[[ 'Доля должников']], annot=True, cmap= 'coolwarm'))"
   ]
  },
  {
   "cell_type": "markdown",
   "id": "a4773f65",
   "metadata": {},
   "source": [
    "**Вывод:** \n",
    "\n",
    "Нужно отметить, что в нашей выборке практически отсутствуют данные по некоторым социальным группам: безработные, в декрете, предприниматели, студенты. Их общее количество составляет лишь 6 человек, при выборке в 21331.\n",
    "\n",
    "Наибольшую долю должников имеют сотрудники, практически в 10% от общего числа. Довольно высокая доля также у компаньонов (7,4%). У пенсионеров и госслужащих самые низкие показатели (5,9% и 5,7% соответственно).\n",
    "\n",
    "Вывод, который можно сделать на основании представленных данны - люди, трудоустроеннные в коммерческой отрасли чаще не возвращают задолженности в сроки. Работники госорганов и пенсионеры реже нарушают свои кредитные обязательства.\n",
    "\n",
    "**ДОПОЛНЕНИЕ:**\n",
    "\n",
    "По уровню дохода в представленной выборке нет достаточного количества наблюдений по группам с наиболее высоким уровнем \"А\" и с наименьшим уровнем \"Е\". \n",
    "\n",
    "По оставшимся группам, можно отметить, что явной тенденции не наблюдается. Так называемый средний класс \"С\" имеет самый высокий показатель закредитованности - 8,5%. Классы \"В\" и \"D\" являются менее закредитованными, с показателями 7,1% и 6% соответственно."
   ]
  },
  {
   "cell_type": "markdown",
   "id": "2021884c",
   "metadata": {},
   "source": [
    "***Как разные цели кредита влияют на его возврат в срок?***"
   ]
  },
  {
   "cell_type": "code",
   "execution_count": 35,
   "id": "2f3f03a1",
   "metadata": {},
   "outputs": [
    {
     "name": "stdout",
     "output_type": "stream",
     "text": [
      "                         Общее кол-во Закредитованные Доля должников\n",
      "                                 debt            debt           debt\n",
      "purpose_category                                                    \n",
      "операции с автомобилем           4279             400       0.093480\n",
      "операции с недвижимостью        10751             780       0.072551\n",
      "получение образования            3988             369       0.092528\n",
      "проведение свадьбы               2313             183       0.079118\n"
     ]
    }
   ],
   "source": [
    "data_purp = pd.pivot_table(data,index='purpose_category', values='debt',aggfunc=['count','sum','mean'])\n",
    "data_purp = data_purp.rename(columns={'count':'Общее кол-во', 'sum':'Закредитованные', 'mean':'Доля должников'})\n",
    "print(data_purp)"
   ]
  },
  {
   "cell_type": "code",
   "execution_count": 36,
   "id": "0f2fb042",
   "metadata": {},
   "outputs": [
    {
     "name": "stdout",
     "output_type": "stream",
     "text": [
      "AxesSubplot(0.125,0.125;0.62x0.755)\n"
     ]
    },
    {
     "data": {
      "image/png": "[encoded data removed]",
      "text/plain": [
       "<Figure size 432x288 with 2 Axes>"
      ]
     },
     "metadata": {
      "needs_background": "light"
     },
     "output_type": "display_data"
    }
   ],
   "source": [
    "print(sb.heatmap(data_purp[[ 'Закредитованные']], annot=True, cmap= 'coolwarm'))"
   ]
  },
  {
   "cell_type": "code",
   "execution_count": 37,
   "id": "e137663e",
   "metadata": {},
   "outputs": [
    {
     "name": "stdout",
     "output_type": "stream",
     "text": [
      "AxesSubplot(0.125,0.125;0.62x0.755)\n"
     ]
    },
    {
     "data": {
      "image/png": "[encoded data removed]",
      "text/plain": [
       "<Figure size 432x288 with 2 Axes>"
      ]
     },
     "metadata": {
      "needs_background": "light"
     },
     "output_type": "display_data"
    }
   ],
   "source": [
    "print(sb.heatmap(data_purp[[ 'Доля должников']], annot=True, cmap= 'coolwarm'))"
   ]
  },
  {
   "cell_type": "markdown",
   "id": "6902e418",
   "metadata": {},
   "source": [
    "**Вывод:** \n",
    "\n",
    "По целям кредитования можно сделать вывод, что значительно чаще люди не погашают вовремя свои задолженности, если берут денежные средства на операцию с автомобилями или на получение образования (9,3% для обеих категорий). Тогда как по операцией с недвижимостью и проведения праздничных мероприятий граждане, попавшие в выборку, более ответственно относятся к обслуживанию своих задолженностей с показателями в 7,3% и 7,9% закредитованных соответственно."
   ]
  },
  {
   "cell_type": "markdown",
   "id": "e97a16ed",
   "metadata": {},
   "source": [
    "### Общий вывод ###"
   ]
  },
  {
   "cell_type": "markdown",
   "id": "a89413d2",
   "metadata": {},
   "source": [
    "***Итоги исследования***\n",
    "\n",
    "Подведем общие итоги данного исследования. Для анализа использовались данные по платежесобности заемщиков нашего клиента (заказчика) с 21525 наблюдениями, в которых была представлена информация о людях, воспользовавшихся услугами в данной финансовой организации с различными социальными и экономическими факторами, такими как:\n",
    "\n",
    "- children — количество детей в семье\n",
    "- days_employed — общий трудовой стаж в днях\n",
    "- dob_years — возраст клиента в годах\n",
    "- education — уровень образования клиента\n",
    "- education_id — идентификатор уровня образования\n",
    "- family_status — семейное положение\n",
    "- family_status_id — идентификатор семейного положения\n",
    "- gender — пол клиента\n",
    "- income_type — тип занятости\n",
    "- debt — имел ли задолженность по возврату кредитов\n",
    "- total_income — ежемесячный доход\n",
    "- purpose — цель получения кредита\n",
    "\n",
    "**Цель**: Проанализиоровать, влияет ли семейное положение и количество детей клиента на факт погашения кредита в срок?\n",
    "\n",
    "**Ход исследования**\n",
    "\n",
    "Данные о поведении пользователей получены из файла data.csv. О качестве данных ничего не известно. Поэтому перед проверкой гипотез понадобится обзор данных.\n",
    "\n",
    "Таким образом, исследование пройдёт в три этапа:\n",
    "\n",
    "1) Обзор данных.\n",
    "2) Предобработка данных.\n",
    "3) Выполнение поставленной цели.\n",
    "\n",
    "При обзоре данных были замечены пропуски в двух столбцах: ежемесячный доход, опыт работы в днях. Оба столбца были заполнены медианными значениями по соответствующему типу занятости, так как медианное значение наименее вего повлияет на итоговые результаты.\n",
    "\n",
    "Помимо этого, было проделано несколько операций по обработке данных (в том числе избавления от отрицательных значений, приведение к необходимому формату и т.д.).\n",
    "\n",
    "Для более четкой интерпретации результатов, были добавлены дополнительные столбцы с данными по уровню дохода с общепринятой европейской буквенной системой A-E:\n",
    "\n",
    "- 0–30000 — `'E'`;\n",
    "- 30001–50000 — `'D'`;\n",
    "- 50001–200000 — `'C'`;\n",
    "- 200001–1000000 — `'B'`;\n",
    "- 1000001 и выше — `'A'`.\n",
    "\n",
    "А также был добавлен столбец для систематизированного определения цели заема средств. После обработки данных, были построены необходимые графики и таблицы.\n",
    "\n",
    "Итак. Какие выводы можно сделать по проект? \n",
    "\n",
    "- Наблюдается тенденция зависимости наличия задолженности у людей в представленной выборке и некоторых факторов (семейное положение, уровень дохода, наличие детей и пр.)\n",
    "- Чем больше детей у человека, тем выше веротяность того, что у него/нее имеется незакрытая задолженности;\n",
    "- Наличие опыта \"супружеской жизни\", скорее, положительно влияет на обслуживание задолженностей. Иными словами, вероятность отсутствия задолженности ниже у человека, который официально находится в браке или у него/нее имеется такой опыт;\n",
    "- Цели кредита также влияют на наличие/отсутствие задолженности. По представенным данным, сложнее всего закрыть задолженности тем людям, которые в качестве цели указали какие-либо операции с автомобилем, а также те, которые указали получение образования в качестве цели.\n",
    "- Уровень дохода не влияет на закредитованность человека. \n",
    "- Социальное положение имеет небольшое влияние на вероятность просроченной задолженности.\n",
    "\n",
    "\n",
    "***Советы от экспертного аналитика***:\n",
    "\n",
    "1. В систему скоринга необходимо включить коэффициент, который будет варьироваться в зависимости от семейного положения и количества детей.\n",
    "\n",
    "\n",
    "2. Заказчику также стоит учитывать социальное положение человека при выдаче кредита.\n",
    "\n",
    "3. Если клиенту требуются денежные средства на покупку/обслуживание автомобиля или же оплату обучения, то необходимо предварительно снижать скоринг таким клиентам по причине систематической просроченной задолженности. \n",
    "\n",
    "Подведем небольшой итог по наиболее успешным статитическим показателям. Наименьшая закредитованность:\n",
    "\n",
    "- Человек, у которого нет детей;\n",
    "- Вдовец/вдова;\n",
    "- Пенсионер;\n",
    "- Уровень дохода 30000 - 50000 руб.;\n",
    "- Цель: операции с недвижимостью;\n",
    "\n",
    "***Идеальный клиент с точки зрения статистических показателей***:\n",
    "\n",
    "Пенсионер-вдовец, у которого нет детей, с пенсией в размере около 30-50 тысяч рублей, берущий заем под покупку недвижимости."
   ]
  }
 ],
 "metadata": {
  "kernelspec": {
   "display_name": "Python 3 (ipykernel)",
   "language": "python",
   "name": "python3"
  },
  "language_info": {
   "codemirror_mode": {
    "name": "ipython",
    "version": 3
   },
   "file_extension": ".py",
   "mimetype": "text/x-python",
   "name": "python",
   "nbconvert_exporter": "python",
   "pygments_lexer": "ipython3",
   "version": "3.9.12"
  }
 },
 "nbformat": 4,
 "nbformat_minor": 5
}
